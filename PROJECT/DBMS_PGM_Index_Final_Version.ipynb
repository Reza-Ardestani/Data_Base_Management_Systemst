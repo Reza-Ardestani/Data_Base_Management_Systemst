{
  "nbformat": 4,
  "nbformat_minor": 0,
  "metadata": {
    "colab": {
      "provenance": []
    },
    "kernelspec": {
      "name": "python3",
      "display_name": "Python 3"
    },
    "language_info": {
      "name": "python"
    }
  },
  "cells": [
    {
      "cell_type": "markdown",
      "source": [
        "Descriptions:"
      ],
      "metadata": {
        "id": "XNYNApTWn8Dn"
      }
    },
    {
      "cell_type": "markdown",
      "source": [
        "# 1) Functions & Classes"
      ],
      "metadata": {
        "id": "_nH9LH1poEKj"
      }
    },
    {
      "cell_type": "code",
      "source": [
        "import math\n",
        "import numpy as np\n",
        "from scipy.spatial import ConvexHull\n",
        "import time\n",
        "import numpy as np\n",
        "import matplotlib.pyplot as plt"
      ],
      "metadata": {
        "id": "YIpb7UwOtxXu"
      },
      "execution_count": null,
      "outputs": []
    },
    {
      "cell_type": "markdown",
      "source": [
        "## 1.1 PGM-Index subroutines"
      ],
      "metadata": {
        "id": "a0h-4dbkogk-"
      }
    },
    {
      "cell_type": "code",
      "source": [
        "def minimum_bounding_rectangle(points):\n",
        "   ### Ref: https://stackoverflow.com/questions/13542855/algorithm-to-find-the-minimum-area-rectangle-for-given-points-in-order-to-comput\n",
        "    \"\"\"\n",
        "    Find the smallest bounding rectangle for a set of points.\n",
        "    Returns a set of points representing the corners of the bounding box.\n",
        "\n",
        "    :param points: an nx2 matrix of coordinates\n",
        "    :rval: an nx2 matrix of coordinates\n",
        "    \"\"\"\n",
        "    from scipy.ndimage.interpolation import rotate\n",
        "    pi2 = np.pi/2.\n",
        "\n",
        "    # get the convex hull for the points\n",
        "    try:\n",
        "      hull_points = points[ConvexHull(points).vertices]\n",
        "    except:\n",
        "      return -2\n",
        "\n",
        "\n",
        "    # calculate edge angles\n",
        "    edges = np.zeros((len(hull_points)-1, 2))\n",
        "    edges = hull_points[1:] - hull_points[:-1]\n",
        "\n",
        "    angles = np.zeros((len(edges)))\n",
        "    angles = np.arctan2(edges[:, 1], edges[:, 0])\n",
        "\n",
        "    angles = np.abs(np.mod(angles, pi2))\n",
        "    angles = np.unique(angles)\n",
        "\n",
        "    # find rotation matrices\n",
        "    # XXX both work\n",
        "    rotations = np.vstack([\n",
        "        np.cos(angles),\n",
        "        np.cos(angles-pi2),\n",
        "        np.cos(angles+pi2),\n",
        "        np.cos(angles)]).T\n",
        "\n",
        "    rotations = rotations.reshape((-1, 2, 2))\n",
        "\n",
        "    # apply rotations to the hull\n",
        "    rot_points = np.dot(rotations, hull_points.T)\n",
        "\n",
        "    # find the bounding points\n",
        "    min_x = np.nanmin(rot_points[:, 0], axis=1)\n",
        "    max_x = np.nanmax(rot_points[:, 0], axis=1)\n",
        "    min_y = np.nanmin(rot_points[:, 1], axis=1)\n",
        "    max_y = np.nanmax(rot_points[:, 1], axis=1)\n",
        "\n",
        "    # find the box with the best area\n",
        "    areas = (max_x - min_x) * (max_y - min_y)\n",
        "    best_idx = np.argmin(areas)\n",
        "\n",
        "    # return the best box\n",
        "    x1 = max_x[best_idx]\n",
        "    x2 = min_x[best_idx]\n",
        "    y1 = max_y[best_idx]\n",
        "    y2 = min_y[best_idx]\n",
        "    r = rotations[best_idx]\n",
        "\n",
        "    rval = np.zeros((4, 2))\n",
        "    rval[0] = np.dot([x1, y2], r)\n",
        "    rval[1] = np.dot([x2, y2], r)\n",
        "    rval[2] = np.dot([x2, y1], r)\n",
        "    rval[3] = np.dot([x1, y1], r)\n",
        "\n",
        "    return rval"
      ],
      "metadata": {
        "id": "D2N_XYPZlYXI"
      },
      "execution_count": null,
      "outputs": []
    },
    {
      "cell_type": "code",
      "source": [
        "import numpy as np\n",
        "def generate_keys(size = 10**6, max = 10**6, decimals = 3):\n",
        "  \"\"\"\n",
        "  size: total number of keys generated\n",
        "  max: maximum value of a key. The range is [0,max)\n",
        "  decimal: number of decimal places of keys. Keys are float numbers\n",
        "  we assume that positions start from 0 up to size-1 for the sorted keys\n",
        "  \"\"\"\n",
        "  # we generate 10% more keys since at the end we only need unique keys\n",
        "  n = size + int(size * 0.1)\n",
        "  x = np.random.random((n,1))\n",
        "  x = x.dot(max)\n",
        "  x = np.around(x, decimals=decimals)\n",
        "  x = np.sort(x, axis=0)\n",
        "  x = np.unique(x, axis=0)\n",
        "  assert x.shape[0] >= size , \\\n",
        "         f\"{x.shape=}, we cannot slice {size=} from it\"\n",
        "  x = x[:size, 0]\n",
        "  positions = list(range(size))\n",
        "  return x , positions\n"
      ],
      "metadata": {
        "id": "jKBWiRt8hRL7"
      },
      "execution_count": null,
      "outputs": []
    },
    {
      "cell_type": "code",
      "source": [
        "def reorder_points(points):\n",
        "  \"\"\"\n",
        "  sort points in the order that\n",
        "  1st element: with the lowest y value\n",
        "  2nd: highest y value\n",
        "  3rd: lowest x value\n",
        "  4th: highest x value\n",
        "  \"\"\"\n",
        "  result = np.array(points)\n",
        "  x_val, y_val = points[0][0], points[0][1]\n",
        "  indices = list(range(points.shape[0]))\n",
        "  temp_index = -1\n",
        "  for i in indices:\n",
        "    if(points[i][1] <= y_val):\n",
        "      temp_index = i\n",
        "      y_val = points[i][1]\n",
        "  #found 1st. Remove its index from the list & store it at the right place\n",
        "  indices.remove(temp_index)\n",
        "  result[0] = points[temp_index]\n",
        "\n",
        "  for i in indices:\n",
        "    if(points[i][1] >= y_val):\n",
        "      temp_index = i\n",
        "      y_val = points[i][1]\n",
        "  #found 2nd.\n",
        "  indices.remove(temp_index)\n",
        "  result[1] = points[temp_index]\n",
        "\n",
        "  for i in indices:\n",
        "    if(points[i][0] <= x_val):\n",
        "      temp_index = i\n",
        "      x_val = points[i][0]\n",
        "  #found 3rd.\n",
        "  indices.remove(temp_index)\n",
        "  result[2] = points[temp_index]\n",
        "\n",
        "  # the last element's index is left in indices array\n",
        "  result[3] = points[indices[0]]\n",
        "\n",
        "  return result"
      ],
      "metadata": {
        "id": "7Pt7GY3b68VT"
      },
      "execution_count": null,
      "outputs": []
    },
    {
      "cell_type": "code",
      "source": [
        "def collinear(keys, new_p):\n",
        "  # we already know the y_value for the segement are increasing\n",
        "  # one by one per element so we don't need it for checking slopes\n",
        "  return True if ((keys[0]-keys[1])==(keys[-1]-new_p)) else False"
      ],
      "metadata": {
        "id": "lwqh0toplagA"
      },
      "execution_count": null,
      "outputs": []
    },
    {
      "cell_type": "code",
      "source": [
        "def get_slope(x1, y1, x2, y2):\n",
        "  slope = (y2-y1)/(x2-x1)\n",
        "  return slope\n",
        "\n",
        "def get_Y_ic(x1, y1, x2, y2):\n",
        "  \"\"\" y=mx+b >> b=y-mx \"\"\"\n",
        "  s = get_slope(x1, y1, x2, y2)\n",
        "  b=y1-s*x1\n",
        "  return b"
      ],
      "metadata": {
        "id": "8AU_MLcPnmTo"
      },
      "execution_count": null,
      "outputs": []
    },
    {
      "cell_type": "code",
      "source": [
        "def height_finder(keys, indices):\n",
        "  # call convex hull then bbox then reorder then calculate h here\n",
        "  h = -1\n",
        "  k = np.array(keys)\n",
        "  p = np.array(indices)\n",
        "  points = np.column_stack((k,p))\n",
        "  bbox = minimum_bounding_rectangle(points)\n",
        "  if (type(bbox) == type(-2)):\n",
        "    return 0 # height is zero if points are almost colinear\n",
        "  points = reorder_points(bbox)\n",
        "\n",
        "  x1, y1= points[1,:]\n",
        "  x2, y2= points[2,:]\n",
        "  slope_2nd_3rd = get_slope(x1, y1, x2, y2)\n",
        "  ic_2nd_3rd = get_Y_ic(x1, y1, x2, y2)\n",
        "  # print(f\"{x1=}, {y1=}, {x2=}, {y2=}\")\n",
        "  # print(f\"{slope_2nd_3rd=}, and {ic_2nd_3rd=}\")\n",
        "  h = (slope_2nd_3rd * points[0,0] + ic_2nd_3rd) - points[0,1]\n",
        "  assert h >= 0 ,  f\"Invalid height{h=}\"\n",
        "\n",
        "  return h"
      ],
      "metadata": {
        "id": "S_ziC8zxn3hm"
      },
      "execution_count": null,
      "outputs": []
    },
    {
      "cell_type": "code",
      "source": [
        "def extract_first_sl_ic_for2points(keys, indices):\n",
        "  sl = get_slope(keys[0], indices[0], keys[1], indices[1])\n",
        "  ic = get_Y_ic(keys[0], indices[0], keys[1], indices[1])\n",
        "  return (keys[0], sl , ic)\n"
      ],
      "metadata": {
        "id": "z-29idWfZk-4"
      },
      "execution_count": null,
      "outputs": []
    },
    {
      "cell_type": "code",
      "source": [
        "def extract_first_sl_ic(keys, indices):\n",
        "  k = np.array(keys)\n",
        "  p = np.array(indices)\n",
        "  points = np.column_stack((k,p))\n",
        "  bbox = minimum_bounding_rectangle(points)\n",
        "  if type(bbox) == type(-2):\n",
        "    return extract_first_sl_ic_for2points(keys[:2], indices[:2])\n",
        "  points = reorder_points(bbox)\n",
        "  x1, y1= (points[0,0]+ points[2,0])/2 , (points[0,1]+ points[2,1])/2\n",
        "  x2, y2= (points[1,0]+ points[3,0])/2 , (points[1,1]+ points[3,1])/2\n",
        "  slope = get_slope(x1, y1, x2, y2)\n",
        "  ic = get_Y_ic(x1, y1, x2, y2)\n",
        "\n",
        "  return (keys[0], slope, ic)"
      ],
      "metadata": {
        "id": "DPXkPSV4o3YO"
      },
      "execution_count": null,
      "outputs": []
    },
    {
      "cell_type": "markdown",
      "source": [
        "## 1.2 PGM-*Index"
      ],
      "metadata": {
        "id": "MEhf1SdRo3fS"
      }
    },
    {
      "cell_type": "code",
      "source": [
        "def build_PLA_model(keys,n,eps,pos):\n",
        "  PLA_models = []\n",
        "  segment_keys = [] # current segment points\n",
        "  indices = []\n",
        "  linear = False\n",
        "  tolerance = 0.5\n",
        "  eps -= tolerance\n",
        "  \"\"\"\n",
        "  On adding a new segment to PLA_models\n",
        "  + we flush the segment_keys and add the point that was propabebly\n",
        "  causing over height.\n",
        "  + reset linear to False\n",
        "  \"\"\"\n",
        "  for i in range(n):\n",
        "    #// print(f\"{segment_keys=}, {indices=}\")\n",
        "    if len(segment_keys) <= 1:\n",
        "      segment_keys.append(keys[i])\n",
        "      indices.append(pos[i])\n",
        "    else:\n",
        "      # now we have already two points. Gonna add the third\n",
        "      if (linear==True ) or (len(segment_keys) == 2):\n",
        "        # we already know the y_value for the segement are increasing\n",
        "        # one by one per element so we don't need it\n",
        "        linear = collinear(segment_keys,keys[i])\n",
        "\n",
        "      if linear:\n",
        "        segment_keys.append(keys[i])\n",
        "        indices.append(pos[i])\n",
        "      else:\n",
        "        # we temporarly add keys[i] and see if height is still <= 2e\n",
        "        # here we have atleast 3 points & are not collinear\n",
        "        h = height_finder(segment_keys + [keys[i]], indices + [pos[i]])\n",
        "        #// print(f'{h=} and {eps=}')\n",
        "        if h > 2*eps:\n",
        "          if len(segment_keys) == 2:\n",
        "            PLA_models.append(extract_first_sl_ic_for2points(segment_keys, indices))\n",
        "          else:\n",
        "            PLA_models.append(extract_first_sl_ic(segment_keys, indices))\n",
        "          segment_keys = [] # reset\n",
        "          indices = [] # reset\n",
        "          linear = False # reset\n",
        "          segment_keys.append(keys[i])\n",
        "          indices.append(pos[i])\n",
        "        else:\n",
        "          segment_keys.append(keys[i])\n",
        "          indices.append(pos[i])\n",
        "\n",
        "  # At the end of \"for\" we check if anything is left in segment_keys\n",
        "  # Three possible scenarios exist\n",
        "  # (1) only one point is left! (2) two points, (3) more that two points\n",
        "  # we only need to add the tripple (first_key, slop, ic) describing\n",
        "  # remained segment\n",
        "  rem = len(segment_keys)\n",
        "  if rem == 0:\n",
        "    pass\n",
        "  elif rem == 1:\n",
        "    # we suppose we had a previous point (0,0)\n",
        "    sl = get_slope(segment_keys[0], indices[0], 0, 0)\n",
        "    ic = get_Y_ic(segment_keys[0], indices[0], 0,0)\n",
        "    PLA_models.append((segment_keys[0], sl , ic))\n",
        "  elif rem == 2:\n",
        "    PLA_models.append(extract_first_sl_ic_for2points(segment_keys, indices))\n",
        "  else:\n",
        "    PLA_models.append(extract_first_sl_ic(segment_keys, indices))\n",
        "\n",
        "  return PLA_models"
      ],
      "metadata": {
        "id": "eUMY8-SRemFP"
      },
      "execution_count": null,
      "outputs": []
    },
    {
      "cell_type": "code",
      "source": [
        "def build_pgm_index(A, n, eps =2, pos=[]):\n",
        "  \"\"\"\n",
        "  A: list of keys. They are X values.\n",
        "  n: len(A)\n",
        "  pos: list of positions of keys. These are Y values.\n",
        "  eps: PGM model's parameter\n",
        "  \"\"\"\n",
        "  if pos == []:\n",
        "    pos = list(range(n))\n",
        "  levels = []\n",
        "  keys = A\n",
        "\n",
        "  while(n != 1):\n",
        "    M = build_PLA_model(keys,n,eps,pos)\n",
        "    levels.append(M)\n",
        "    n = len(M)\n",
        "    keys = [tripple[0] for tripple in M ]\n",
        "    pos = list(range(n))\n",
        "\n",
        "  levels.reverse()\n",
        "  return levels"
      ],
      "metadata": {
        "id": "aleAlUnRdCyy"
      },
      "execution_count": null,
      "outputs": []
    },
    {
      "cell_type": "code",
      "source": [
        "def right_most_lowest_segment(level, key_query , low, high):\n",
        "  \"\"\"\n",
        "  Returns a the if of the right segment whose key is < key_query\n",
        "  from low index up to high, inclusive.\n",
        "  level[i] = (key, slope, intercept)\n",
        "  \"\"\"\n",
        "  id = -1\n",
        "  for i in range(high, low-1, -1):\n",
        "    if(level[i][0] <= key_query):\n",
        "      return i\n",
        "\n",
        "  print(\"inside the right most func\")\n",
        "  print(level)\n",
        "  print(key_query)\n",
        "  print(low)\n",
        "  print(high)\n",
        "  assert id > -1"
      ],
      "metadata": {
        "id": "lNZTH9Hebje9"
      },
      "execution_count": null,
      "outputs": []
    },
    {
      "cell_type": "code",
      "source": [
        "def find_pos_for_nex_level(id, level, k):\n",
        "  size = len(level)\n",
        "  #print(f\"{id=}, {level=}, {k=}\")\n",
        "  s = level[id]\n",
        "  if id == (size -1):\n",
        "    return math.floor(k * s[1]+ s[2])\n",
        "  return math.floor(min(k * s[1]+ s[2], level[id+1][0]*level[id+1][1]+level[id+1][2]))\n"
      ],
      "metadata": {
        "id": "XmBTKYF1lLfH"
      },
      "execution_count": null,
      "outputs": []
    },
    {
      "cell_type": "code",
      "source": [
        "def find_a_key(A, key_query , low, high):\n",
        "  index = -1\n",
        "  for i in range(low, high+1):\n",
        "    if A[i] == key_query:\n",
        "      index = i\n",
        "      break\n",
        "  return index\n"
      ],
      "metadata": {
        "id": "TaxkLIJAsWVY"
      },
      "execution_count": null,
      "outputs": []
    },
    {
      "cell_type": "code",
      "source": [
        "def search(A, n, eps, levels, key_query):\n",
        "  \"\"\"\n",
        "  This function gets a key as a query and\n",
        "  return its index of that key in original Array\n",
        "  if not found returns -1\n",
        "  \"\"\"\n",
        "  idx = -1\n",
        "  if key_query < levels[0][0][0]:\n",
        "    return -1\n",
        "  pos = key_query * levels[0][0][1] + levels[0][0][2]\n",
        "  pos = round(pos)\n",
        "\n",
        "  for i in range(1,len(levels)):\n",
        "    low = max(0, pos - eps)\n",
        "    high = min( len(levels[i])-1, pos + eps)\n",
        "    id = right_most_lowest_segment(levels[i], key_query , low, high)\n",
        "    pos = find_pos_for_nex_level(id, levels[i], key_query)\n",
        "    #print(f\"inside {low=} and {id=}, and {high=}, {pos=}\")\n",
        "  low = max(0, pos - eps)\n",
        "  high = min(len(A)-1, pos + eps)\n",
        "  #print(f\"final {low=} and {high=}, {pos=}\")\n",
        "  # now by this low and high we search for the key in A.\n",
        "  # we can reuse the right_most_lowest_segment func\n",
        "  target_id = find_a_key(A, key_query , low, high)\n",
        "  return target_id\n"
      ],
      "metadata": {
        "id": "IBmZP3KpVKKJ"
      },
      "execution_count": null,
      "outputs": []
    },
    {
      "cell_type": "code",
      "source": [],
      "metadata": {
        "id": "zWS3iV1Fo_Gi"
      },
      "execution_count": null,
      "outputs": []
    },
    {
      "cell_type": "markdown",
      "source": [
        "## 1.3 B-plus tree"
      ],
      "metadata": {
        "id": "FfLCYi_3o_w5"
      }
    },
    {
      "cell_type": "code",
      "source": [
        "# Python3 program for implementing B+ Tree\n",
        "\n",
        "import math\n",
        "\n",
        "# Node creation\n",
        "class Node:\n",
        "\tdef __init__(self, order):\n",
        "\t\tself.order = order\n",
        "\t\tself.values = []\n",
        "\t\tself.keys = []\n",
        "\t\tself.nextKey = None\n",
        "\t\tself.parent = None\n",
        "\t\tself.check_leaf = False\n",
        "\n",
        "\t# Insert at the leaf\n",
        "\tdef insert_at_leaf(self, leaf, value, key):\n",
        "\t\tif (self.values):\n",
        "\t\t\ttemp1 = self.values\n",
        "\t\t\tfor i in range(len(temp1)):\n",
        "\t\t\t\tif (value == temp1[i]):\n",
        "\t\t\t\t\tself.keys[i].append(key)\n",
        "\t\t\t\t\tbreak\n",
        "\t\t\t\telif (value < temp1[i]):\n",
        "\t\t\t\t\tself.values = self.values[:i] + [value] + self.values[i:]\n",
        "\t\t\t\t\tself.keys = self.keys[:i] + [[key]] + self.keys[i:]\n",
        "\t\t\t\t\tbreak\n",
        "\t\t\t\telif (i + 1 == len(temp1)):\n",
        "\t\t\t\t\tself.values.append(value)\n",
        "\t\t\t\t\tself.keys.append([key])\n",
        "\t\t\t\t\tbreak\n",
        "\t\telse:\n",
        "\t\t\tself.values = [value]\n",
        "\t\t\tself.keys = [[key]]\n",
        "\n",
        "\n",
        "# B plus tree\n",
        "class BplusTree:\n",
        "\tdef __init__(self, order):\n",
        "\t\tself.root = Node(order)\n",
        "\t\tself.root.check_leaf = True\n",
        "\n",
        "\t# Insert operation\n",
        "\tdef insert(self, value, key):\n",
        "\t\tvalue = str(value)\n",
        "\t\told_node = self.search(value)\n",
        "\t\told_node.insert_at_leaf(old_node, value, key)\n",
        "\n",
        "\t\tif (len(old_node.values) == old_node.order):\n",
        "\t\t\tnode1 = Node(old_node.order)\n",
        "\t\t\tnode1.check_leaf = True\n",
        "\t\t\tnode1.parent = old_node.parent\n",
        "\t\t\tmid = int(math.ceil(old_node.order / 2)) - 1\n",
        "\t\t\tnode1.values = old_node.values[mid + 1:]\n",
        "\t\t\tnode1.keys = old_node.keys[mid + 1:]\n",
        "\t\t\tnode1.nextKey = old_node.nextKey\n",
        "\t\t\told_node.values = old_node.values[:mid + 1]\n",
        "\t\t\told_node.keys = old_node.keys[:mid + 1]\n",
        "\t\t\told_node.nextKey = node1\n",
        "\t\t\tself.insert_in_parent(old_node, node1.values[0], node1)\n",
        "\n",
        "\t# Search operation for different operations\n",
        "\tdef search(self, value):\n",
        "\t\tcurrent_node = self.root\n",
        "\t\twhile(current_node.check_leaf == False):\n",
        "\t\t\ttemp2 = current_node.values\n",
        "\t\t\tfor i in range(len(temp2)):\n",
        "\t\t\t\tif (value == temp2[i]):\n",
        "\t\t\t\t\tcurrent_node = current_node.keys[i + 1]\n",
        "\t\t\t\t\tbreak\n",
        "\t\t\t\telif (value < temp2[i]):\n",
        "\t\t\t\t\tcurrent_node = current_node.keys[i]\n",
        "\t\t\t\t\tbreak\n",
        "\t\t\t\telif (i + 1 == len(current_node.values)):\n",
        "\t\t\t\t\tcurrent_node = current_node.keys[i + 1]\n",
        "\t\t\t\t\tbreak\n",
        "\t\treturn current_node\n",
        "\n",
        "\t# Find the node\n",
        "\tdef find(self, value, key):\n",
        "\t\tl = self.search(value)\n",
        "\t\tfor i, item in enumerate(l.values):\n",
        "\t\t\tif item == value:\n",
        "\t\t\t\tif key in l.keys[i]:\n",
        "\t\t\t\t\treturn True\n",
        "\t\t\t\telse:\n",
        "\t\t\t\t\treturn False\n",
        "\t\treturn False\n",
        "\n",
        "\t# Inserting at the parent\n",
        "\tdef insert_in_parent(self, n, value, ndash):\n",
        "\t\tif (self.root == n):\n",
        "\t\t\trootNode = Node(n.order)\n",
        "\t\t\trootNode.values = [value]\n",
        "\t\t\trootNode.keys = [n, ndash]\n",
        "\t\t\tself.root = rootNode\n",
        "\t\t\tn.parent = rootNode\n",
        "\t\t\tndash.parent = rootNode\n",
        "\t\t\treturn\n",
        "\n",
        "\t\tparentNode = n.parent\n",
        "\t\ttemp3 = parentNode.keys\n",
        "\t\tfor i in range(len(temp3)):\n",
        "\t\t\tif (temp3[i] == n):\n",
        "\t\t\t\tparentNode.values = parentNode.values[:i] + \\\n",
        "\t\t\t\t\t[value] + parentNode.values[i:]\n",
        "\t\t\t\tparentNode.keys = parentNode.keys[:i +\n",
        "\t\t\t\t\t\t\t\t\t\t\t\t1] + [ndash] + parentNode.keys[i + 1:]\n",
        "\t\t\t\tif (len(parentNode.keys) > parentNode.order):\n",
        "\t\t\t\t\tparentdash = Node(parentNode.order)\n",
        "\t\t\t\t\tparentdash.parent = parentNode.parent\n",
        "\t\t\t\t\tmid = int(math.ceil(parentNode.order / 2)) - 1\n",
        "\t\t\t\t\tparentdash.values = parentNode.values[mid + 1:]\n",
        "\t\t\t\t\tparentdash.keys = parentNode.keys[mid + 1:]\n",
        "\t\t\t\t\tvalue_ = parentNode.values[mid]\n",
        "\t\t\t\t\tif (mid == 0):\n",
        "\t\t\t\t\t\tparentNode.values = parentNode.values[:mid + 1]\n",
        "\t\t\t\t\telse:\n",
        "\t\t\t\t\t\tparentNode.values = parentNode.values[:mid]\n",
        "\t\t\t\t\tparentNode.keys = parentNode.keys[:mid + 1]\n",
        "\t\t\t\t\tfor j in parentNode.keys:\n",
        "\t\t\t\t\t\tj.parent = parentNode\n",
        "\t\t\t\t\tfor j in parentdash.keys:\n",
        "\t\t\t\t\t\tj.parent = parentdash\n",
        "\t\t\t\t\tself.insert_in_parent(parentNode, value_, parentdash)\n",
        "\n",
        "# Print the tree\n",
        "def printTree(tree):\n",
        "\tlst = [tree.root]\n",
        "\tlevel = [0]\n",
        "\tleaf = None\n",
        "\tflag = 0\n",
        "\tlev_leaf = 0\n",
        "\n",
        "\tnode1 = Node(str(level[0]) + str(tree.root.values))\n",
        "\n",
        "\twhile (len(lst) != 0):\n",
        "\t\tx = lst.pop(0)\n",
        "\t\tlev = level.pop(0)\n",
        "\t\tif (x.check_leaf == False):\n",
        "\t\t\tfor i, item in enumerate(x.keys):\n",
        "\t\t\t\tprint(item.values)\n",
        "\t\telse:\n",
        "\t\t\tfor i, item in enumerate(x.keys):\n",
        "\t\t\t\tprint(item.values)\n",
        "\t\t\tif (flag == 0):\n",
        "\t\t\t\tlev_leaf = lev\n",
        "\t\t\t\tleaf = x\n",
        "\t\t\t\tflag = 1"
      ],
      "metadata": {
        "id": "zOA7A7tyMpsa"
      },
      "execution_count": null,
      "outputs": []
    },
    {
      "cell_type": "code",
      "source": [],
      "metadata": {
        "id": "y_4vNva7sXry"
      },
      "execution_count": null,
      "outputs": []
    },
    {
      "cell_type": "markdown",
      "source": [
        "# 2) Driver Code"
      ],
      "metadata": {
        "id": "HyCDpx65oMVW"
      }
    },
    {
      "cell_type": "code",
      "source": [
        "## Generating data\n",
        "##################### ******************* ###########################\n",
        "keys, positions = generate_keys(size = 10**6, max = 10**5, decimals = 3)\n",
        "k = keys.tolist()"
      ],
      "metadata": {
        "id": "SvxmwXRv3aR2"
      },
      "execution_count": null,
      "outputs": []
    },
    {
      "cell_type": "code",
      "source": [
        "## Testing PGM model\n",
        "for j in range(2,11):\n",
        "  print(f\"Before processing {j=}\")\n",
        "  model = build_pgm_index(k, len(k), eps =j, pos=positions)\n",
        "  for i in range(len(k)):\n",
        "    if i != search(k, len(k), j, model, k[i]):\n",
        "      print(i)\n",
        "\n",
        "  print(f\"finished processing {j=}\")"
      ],
      "metadata": {
        "colab": {
          "base_uri": "https://localhost:8080/"
        },
        "id": "u9otAo9koORR",
        "outputId": "a14dbdd1-0f52-453d-cff1-f4cb70f8fb06"
      },
      "execution_count": null,
      "outputs": [
        {
          "output_type": "stream",
          "name": "stdout",
          "text": [
            "Before processing j=2\n"
          ]
        },
        {
          "output_type": "stream",
          "name": "stderr",
          "text": [
            "<ipython-input-2-03f8b29d70b5>:10: DeprecationWarning: Please use `rotate` from the `scipy.ndimage` namespace, the `scipy.ndimage.interpolation` namespace is deprecated.\n",
            "  from scipy.ndimage.interpolation import rotate\n"
          ]
        },
        {
          "output_type": "stream",
          "name": "stdout",
          "text": [
            "finished processing j=2\n",
            "Before processing j=3\n",
            "finished processing j=3\n",
            "Before processing j=4\n",
            "finished processing j=4\n",
            "Before processing j=5\n",
            "finished processing j=5\n",
            "Before processing j=6\n",
            "finished processing j=6\n",
            "Before processing j=7\n",
            "finished processing j=7\n",
            "Before processing j=8\n",
            "finished processing j=8\n",
            "Before processing j=9\n",
            "finished processing j=9\n",
            "Before processing j=10\n",
            "finished processing j=10\n"
          ]
        }
      ]
    },
    {
      "cell_type": "code",
      "source": [
        "### B-plus tree\n",
        "record_len = 3\n",
        "bplustree = BplusTree(record_len)\n",
        "\n",
        "\n",
        "## Inserting Keys\n",
        "for i in range(len(k)):\n",
        "  # insert(value, key)\n",
        "  bplustree.insert(str(k[i]), str(i))\n",
        "\n",
        "## performing search\n",
        "for i in range(len(k)):\n",
        "  # insert(value, key)\n",
        "  if(not bplustree.find(str(k[i]), str(i))):\n",
        "    print(i)"
      ],
      "metadata": {
        "id": "9HwkVB4mIzFv"
      },
      "execution_count": null,
      "outputs": []
    },
    {
      "cell_type": "code",
      "source": [
        "#Testing B-plus tree (Note for J =2 we reach Maximum recurssion depth.)\n",
        "for j in range(3,11):\n",
        "  print(f\"Before processing {j=}\")\n",
        "  record_len = j\n",
        "  bplustree = BplusTree(record_len)\n",
        "  ## Inserting Keys\n",
        "  for i in range(len(k)):\n",
        "    # insert(value, key)\n",
        "    bplustree.insert(str(k[i]), str(i))\n",
        "\n",
        "  ## performing search\n",
        "  for i in range(len(k)):\n",
        "    # insert(value, key)\n",
        "    if(not bplustree.find(str(k[i]), str(i))):\n",
        "      print(i)\n",
        "  print(f\"after processing {j=}\")"
      ],
      "metadata": {
        "colab": {
          "base_uri": "https://localhost:8080/"
        },
        "id": "9HF0RW8cjgO3",
        "outputId": "77ee8935-774b-4470-e755-19f474522659"
      },
      "execution_count": null,
      "outputs": [
        {
          "output_type": "stream",
          "name": "stdout",
          "text": [
            "Before processing j=3\n",
            "after processing j=3\n",
            "Before processing j=4\n",
            "after processing j=4\n",
            "Before processing j=5\n",
            "after processing j=5\n",
            "Before processing j=6\n",
            "after processing j=6\n",
            "Before processing j=7\n",
            "after processing j=7\n",
            "Before processing j=8\n",
            "after processing j=8\n",
            "Before processing j=9\n",
            "after processing j=9\n",
            "Before processing j=10\n",
            "after processing j=10\n"
          ]
        }
      ]
    },
    {
      "cell_type": "markdown",
      "source": [
        "# 10) References"
      ],
      "metadata": {
        "id": "tNDLajJDtKSV"
      }
    },
    {
      "cell_type": "code",
      "source": [],
      "metadata": {
        "id": "pIuLTBA48eT0"
      },
      "execution_count": null,
      "outputs": []
    },
    {
      "cell_type": "markdown",
      "source": [],
      "metadata": {
        "id": "k5QlHTZhtSNf"
      }
    }
  ]
}